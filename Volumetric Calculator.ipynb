{
 "cells": [
  {
   "cell_type": "code",
   "execution_count": null,
   "metadata": {},
   "outputs": [
    {
     "name": "stderr",
     "output_type": "stream",
     "text": [
      "Exception in Tkinter callback\n",
      "Traceback (most recent call last):\n",
      "  File \"/Users/andiapriana/opt/anaconda3/lib/python3.8/tkinter/__init__.py\", line 1883, in __call__\n",
      "    return self.func(*args)\n",
      "  File \"<ipython-input-7-6b010b2149da>\", line 7, in calculate\n",
      "    Ans = 43560 * int(area.get()) * int(height.get()) * float(poro.get()) * (1- float(swi.get())) / float(bgi.get())\n",
      "ValueError: could not convert string to float: '0,25'\n",
      "Exception in Tkinter callback\n",
      "Traceback (most recent call last):\n",
      "  File \"/Users/andiapriana/opt/anaconda3/lib/python3.8/tkinter/__init__.py\", line 1883, in __call__\n",
      "    return self.func(*args)\n",
      "  File \"<ipython-input-7-6b010b2149da>\", line 7, in calculate\n",
      "    Ans = 43560 * int(area.get()) * int(height.get()) * float(poro.get()) * (1- float(swi.get())) / float(bgi.get())\n",
      "ValueError: could not convert string to float: '0,25'\n",
      "Exception in Tkinter callback\n",
      "Traceback (most recent call last):\n",
      "  File \"/Users/andiapriana/opt/anaconda3/lib/python3.8/tkinter/__init__.py\", line 1883, in __call__\n",
      "    return self.func(*args)\n",
      "  File \"<ipython-input-7-6b010b2149da>\", line 7, in calculate\n",
      "    Ans = 43560 * int(area.get()) * int(height.get()) * float(poro.get()) * (1- float(swi.get())) / float(bgi.get())\n",
      "ValueError: could not convert string to float: '0,25'\n"
     ]
    }
   ],
   "source": [
    "from tkinter import *\n",
    "from math import *\n",
    "main = Tk()\n",
    "main.title('VOLUMETRIC CALCULATOR')\n",
    "def calculate():\n",
    "    blank.delete(0, END)\n",
    "    Ans = 43560 * int(area.get()) * int(height.get()) * float(poro.get()) * (1- float(swi.get())) / float(bgi.get())\n",
    "    blank.insert(0, Ans)\n",
    "\n",
    "main.geometry('500x100')\n",
    "Label(main, text = \"Area in acres:\").grid(row=0)\n",
    "Label(main, text = \"Thickness in feet:\").grid(row=1)\n",
    "Label(main, text = \"Porosity in fraction:\").grid(row=2)\n",
    "Label(main, text = \"Swi in fraction:\").grid(row=3)\n",
    "Label(main, text = \"Bgi in fraction:\").grid(row=4)\n",
    "Label(main, text = \"The Answer is:\").grid(row=5)\n",
    "\n",
    "\n",
    "area = Entry(main)\n",
    "height = Entry(main)\n",
    "poro = Entry(main)\n",
    "swi = Entry(main)\n",
    "bgi = Entry(main)\n",
    "blank = Entry(main)\n",
    "\n",
    "\n",
    "area.grid(row=0, column=1)\n",
    "height.grid(row=1, column=1)\n",
    "poro.grid(row=2, column=1)\n",
    "swi.grid(row=3, column=1)\n",
    "bgi.grid(row=4, column=1)\n",
    "blank.grid(row=5, column=1)\n",
    "\n",
    "\n",
    "Button(main, text='Quit', command=main.destroy).grid(row=7, column=0, sticky=W)\n",
    "Button(main, text='Calculate', command=calculate).grid(row=0, column=3, sticky=W,)\n",
    "\n",
    "mainloop()"
   ]
  },
  {
   "cell_type": "code",
   "execution_count": null,
   "metadata": {},
   "outputs": [],
   "source": []
  },
  {
   "cell_type": "code",
   "execution_count": null,
   "metadata": {},
   "outputs": [],
   "source": []
  }
 ],
 "metadata": {
  "kernelspec": {
   "display_name": "Python 3",
   "language": "python",
   "name": "python3"
  },
  "language_info": {
   "codemirror_mode": {
    "name": "ipython",
    "version": 3
   },
   "file_extension": ".py",
   "mimetype": "text/x-python",
   "name": "python",
   "nbconvert_exporter": "python",
   "pygments_lexer": "ipython3",
   "version": "3.8.3"
  }
 },
 "nbformat": 4,
 "nbformat_minor": 4
}
